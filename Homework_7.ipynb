{
 "cells": [
  {
   "cell_type": "code",
   "execution_count": null,
   "metadata": {},
   "outputs": [],
   "source": [
    "import pandas as pd\n",
    "\n",
    "# Step 1: Load the dataset into a Pandas DataFrame\n",
    "df = pd.read_csv(\"AOC_recent_tweets.txt\", index_col='id')\n",
    "\n",
    "# Step 2: Define a function to convert datetime to decimal hours\n",
    "def time_in_hours(column):\n",
    "    return column.dt.hour + column.dt.minute / 60 + column.dt.second / 3600\n",
    "\n",
    "# Step 3: Apply the function to create a new 'hours' column\n",
    "df['hours'] = time_in_hours(pd.to_datetime(df['created_at']))\n",
    "\n",
    "# Step 4: Save DataFrame with selected columns to CSV\n",
    "df[['created_at', 'hours', 'full_text']].to_csv('AOC_tweets_processed.csv', index=False)\n",
    "\n",
    "# Display DataFrame\n",
    "print(df)\n",
    "\n",
    "# Display confirmation message\n",
    "print(\"DataFrame saved as 'AOC_tweets_processed.csv'\")\n"
   ]
  }
 ],
 "metadata": {
  "kernelspec": {
   "display_name": "base",
   "language": "python",
   "name": "python3"
  },
  "language_info": {
   "codemirror_mode": {
    "name": "ipython",
    "version": 3
   },
   "file_extension": ".py",
   "mimetype": "text/x-python",
   "name": "python",
   "nbconvert_exporter": "python",
   "pygments_lexer": "ipython3",
   "version": "3.11.5"
  }
 },
 "nbformat": 4,
 "nbformat_minor": 2
}
